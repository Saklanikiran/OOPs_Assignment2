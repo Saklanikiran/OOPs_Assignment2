{
 "cells": [
  {
   "cell_type": "code",
   "execution_count": 2,
   "id": "c5422258-6c0c-4532-8377-b053c2e4feb0",
   "metadata": {},
   "outputs": [
    {
     "name": "stdout",
     "output_type": "stream",
     "text": [
      "Kiran is 20 years old\n",
      "subjects are: ['python', 'deep learning', 'machine learning']\n"
     ]
    }
   ],
   "source": [
    "# Ans : 1\n",
    "'''\n",
    "Abstraction : Abstraction is the process of hiding the internal details of an application from the outer world.\n",
    "              It hides unnecessary code detail from the users.\n",
    "'''\n",
    "# Example :\n",
    "\n",
    "import abc\n",
    "class course:\n",
    "    @abc.abstractmethod\n",
    "    def mydetail(self,name,age):\n",
    "        pass\n",
    "    @abc.abstractmethod\n",
    "    def subjects(self,sub):\n",
    "        pass\n",
    "class data_science_masters2(course):\n",
    "    def mydetail(self,name,age):\n",
    "        print(name,\"is\",age,\"years old\")\n",
    "    def subjects(self,sub):\n",
    "        print(\"subjects are:\",sub)\n",
    "\n",
    "obj=data_science_masters2()\n",
    "obj.mydetail('Kiran',20)\n",
    "obj.subjects(['python','deep learning','machine learning'])\n",
    "        \n"
   ]
  },
  {
   "cell_type": "code",
   "execution_count": 2,
   "id": "53f02b5c-747a-478b-b20b-a96e4fa45123",
   "metadata": {},
   "outputs": [
    {
     "name": "stdout",
     "output_type": "stream",
     "text": [
      "Kiran is 20 years old\n",
      "subjects are: ['python', 'deep learning', 'machine learning']\n"
     ]
    },
    {
     "data": {
      "text/plain": [
       "90"
      ]
     },
     "execution_count": 2,
     "metadata": {},
     "output_type": "execute_result"
    }
   ],
   "source": [
    "# Ans : 2\n",
    "'''\n",
    "Difference :\n",
    "Abstraction is the method of hiding the unwanted information from the outer world. \n",
    "Encapsulation is a method to hide the data in a single entity or unit along with a method to protect information from outside.\n",
    "'''\n",
    "\n",
    "# Example :\n",
    "# code for abstraction:\n",
    "import abc\n",
    "class course:\n",
    "    @abc.abstractmethod\n",
    "    def mydetail(self,name,age):\n",
    "        pass\n",
    "    @abc.abstractmethod\n",
    "    def subjects(self,sub):\n",
    "        pass\n",
    "class data_science_masters2(course):\n",
    "    def mydetail(self,name,age):\n",
    "        print(name,\"is\",age,\"years old\")\n",
    "    def subjects(self,sub):\n",
    "        print(\"subjects are:\",sub)\n",
    "\n",
    "obj=data_science_masters2()\n",
    "obj.mydetail('Kiran',20)\n",
    "obj.subjects(['python','deep learning','machine learning'])\n",
    "        \n",
    "# Example for encapsulation:\n",
    "class test:\n",
    "    def __init__(self,name,score):\n",
    "        self._name=name\n",
    "        self._score=score\n",
    "    def set_name(self,name):\n",
    "        self._name=name\n",
    "    def set_score(self,score):\n",
    "        self._score=score\n",
    "    def get_name(self):\n",
    "        return self._name\n",
    "    def get_score(self):\n",
    "        return self._score\n",
    "obj=test(\"Kiran\",90)\n",
    "obj.get_score()\n",
    "\n",
    "\n",
    "\n",
    "\n",
    "\n"
   ]
  },
  {
   "cell_type": "code",
   "execution_count": 3,
   "id": "29969f26-ca09-4041-a049-1ad2d1fb9aab",
   "metadata": {},
   "outputs": [
    {
     "data": {
      "text/plain": [
       "\"\\nabc module : The 'abc' module in Python library provides the infrastructure for defining custom abstract base classes.\\n             'abc' works by marking methods of the base class as abstract.\\n              This is done by @absttractmethod decorator.\\n              \\n\""
      ]
     },
     "execution_count": 3,
     "metadata": {},
     "output_type": "execute_result"
    }
   ],
   "source": [
    "# Ans : 3\n",
    "'''\n",
    "abc module : The 'abc' module in Python library provides the infrastructure for defining custom abstract base classes.\n",
    "             'abc' works by marking methods of the base class as abstract.\n",
    "              This is done by @absttractmethod decorator.\n",
    "              \n",
    "'''"
   ]
  },
  {
   "cell_type": "code",
   "execution_count": 4,
   "id": "cc9b6f64-5b68-4f7b-b7a3-bb9fa6bb22b2",
   "metadata": {},
   "outputs": [
    {
     "data": {
      "text/plain": [
       "'\\nIn python, abstraction can be achieved by using abstract classes and interfaces.\\nA class that consists of one or more abstract method is called the abstract class.\\nA abstract method do not contain their implementation.\\n'"
      ]
     },
     "execution_count": 4,
     "metadata": {},
     "output_type": "execute_result"
    }
   ],
   "source": [
    "# Ans : 4\n",
    "'''\n",
    "In python, abstraction can be achieved by using abstract classes and interfaces.\n",
    "A class that consists of one or more abstract method is called the abstract class.\n",
    "A abstract method do not contain their implementation.\n",
    "'''\n"
   ]
  },
  {
   "cell_type": "code",
   "execution_count": null,
   "id": "c9f8dc51-a616-45a2-85af-c6e699dbe783",
   "metadata": {},
   "outputs": [],
   "source": [
    "# Ans: 5\n",
    "'''\n",
    "we can,t create an instance of abstract class.\n",
    "Abstract classes are not complete. as they may have some methods"
   ]
  }
 ],
 "metadata": {
  "kernelspec": {
   "display_name": "Python 3 (ipykernel)",
   "language": "python",
   "name": "python3"
  },
  "language_info": {
   "codemirror_mode": {
    "name": "ipython",
    "version": 3
   },
   "file_extension": ".py",
   "mimetype": "text/x-python",
   "name": "python",
   "nbconvert_exporter": "python",
   "pygments_lexer": "ipython3",
   "version": "3.10.8"
  }
 },
 "nbformat": 4,
 "nbformat_minor": 5
}
